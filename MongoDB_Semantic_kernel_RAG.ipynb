{
  "nbformat": 4,
  "nbformat_minor": 0,
  "metadata": {
    "colab": {
      "provenance": [],
      "authorship_tag": "ABX9TyMu6f2Inj8njae5uimABbSe",
      "include_colab_link": true
    },
    "kernelspec": {
      "name": "python3",
      "display_name": "Python 3"
    },
    "language_info": {
      "name": "python"
    }
  },
  "cells": [
    {
      "cell_type": "markdown",
      "metadata": {
        "id": "view-in-github",
        "colab_type": "text"
      },
      "source": [
        "<a href=\"https://colab.research.google.com/github/prakul/mongoDB_atlas_vector_search_sample/blob/main/MongoDB_Semantic_kernel_RAG.ipynb\" target=\"_parent\"><img src=\"https://colab.research.google.com/assets/colab-badge.svg\" alt=\"Open In Colab\"/></a>"
      ]
    },
    {
      "cell_type": "code",
      "execution_count": null,
      "metadata": {
        "id": "N463Qo1DpXlr"
      },
      "outputs": [],
      "source": [
        "!python -m pip install semantic-kernel==0.3.14.dev openai"
      ]
    },
    {
      "cell_type": "code",
      "source": [
        "import getpass\n",
        "\n",
        "OPENAI_API_KEY = getpass.getpass(\"OpenAI API Key:\")\n",
        "MONGODB_ATLAS_CLUSTER_URI = getpass.getpass(\"MongoDB Atlas Cluster URI:\")\n",
        "MONGODB_ATLAS_VECTOR_SEARCH_INDEX=\"default\"\n",
        "MONGODB_DATABASE=\"semantic-kernel-test\"\n",
        "MONGODB_COLLECTION = \"test\""
      ],
      "metadata": {
        "colab": {
          "base_uri": "https://localhost:8080/"
        },
        "id": "eLMQF0ikp3Xq",
        "outputId": "d4a0d2db-671f-4ed7-d414-7d2af18e1be0"
      },
      "execution_count": 2,
      "outputs": [
        {
          "name": "stdout",
          "output_type": "stream",
          "text": [
            "OpenAI API Key:··········\n",
            "MongoDB Atlas Cluster URI:··········\n"
          ]
        }
      ]
    },
    {
      "cell_type": "code",
      "source": [
        "import semantic_kernel as sk\n",
        "\n",
        "kernel = sk.Kernel()"
      ],
      "metadata": {
        "id": "TbJ-GPOgq_4B"
      },
      "execution_count": 3,
      "outputs": []
    },
    {
      "cell_type": "markdown",
      "source": [
        "### Register OpenAI model to the kernel\n"
      ],
      "metadata": {
        "id": "WUuyK6o-20yp"
      }
    },
    {
      "cell_type": "code",
      "source": [
        "import openai\n",
        "from semantic_kernel.connectors.ai.open_ai import (OpenAIChatCompletion, OpenAITextEmbedding)\n",
        "\n",
        "openai.api_key = OPENAI_API_KEY\n",
        "\n",
        "kernel.add_chat_service(\"chat-gpt\", OpenAIChatCompletion(\"gpt-3.5-turbo\", openai.api_key))\n",
        "kernel.add_text_embedding_generation_service(\"ada\", OpenAITextEmbedding(\"text-embedding-ada-002\", openai.api_key))\n"
      ],
      "metadata": {
        "colab": {
          "base_uri": "https://localhost:8080/"
        },
        "id": "MfSceKcCrBGQ",
        "outputId": "aa40c5b1-7c0b-4434-8fd2-75ca3b89440f"
      },
      "execution_count": 4,
      "outputs": [
        {
          "output_type": "execute_result",
          "data": {
            "text/plain": [
              "<semantic_kernel.kernel.Kernel at 0x7cd24ebf0490>"
            ]
          },
          "metadata": {},
          "execution_count": 4
        }
      ]
    },
    {
      "cell_type": "markdown",
      "source": [
        "### Register MongoDBMemoryStore to the kernel\n",
        "\n"
      ],
      "metadata": {
        "id": "hTvbxMOUqWsK"
      }
    },
    {
      "cell_type": "code",
      "source": [
        "from semantic_kernel.connectors.memory.mongodb_atlas import MongoDBAtlasMemoryStore\n",
        "\n",
        "mongodb_atlas_store=MongoDBAtlasMemoryStore(index_name=MONGODB_ATLAS_VECTOR_SEARCH_INDEX, connection_string=MONGODB_ATLAS_CLUSTER_URI, database_name=MONGODB_DATABASE)\n",
        "kernel.register_memory_store(memory_store=mongodb_atlas_store)\n"
      ],
      "metadata": {
        "id": "x4fuIXfkqT3D"
      },
      "execution_count": 5,
      "outputs": []
    },
    {
      "cell_type": "markdown",
      "source": [
        "### Register TextMemorySkill"
      ],
      "metadata": {
        "id": "gZlfqMU2r7rw"
      }
    },
    {
      "cell_type": "code",
      "source": [
        "kernel.import_skill(sk.core_skills.TextMemorySkill())"
      ],
      "metadata": {
        "colab": {
          "base_uri": "https://localhost:8080/"
        },
        "id": "IdbNnoYkr8D-",
        "outputId": "46f2112e-7b52-46f6-c681-43303a2d1514"
      },
      "execution_count": 6,
      "outputs": [
        {
          "output_type": "execute_result",
          "data": {
            "text/plain": [
              "{'recall': <semantic_kernel.orchestration.sk_function.SKFunction at 0x7cd230259420>,\n",
              " 'save': <semantic_kernel.orchestration.sk_function.SKFunction at 0x7cd230288400>}"
            ]
          },
          "metadata": {},
          "execution_count": 6
        }
      ]
    },
    {
      "cell_type": "markdown",
      "source": [
        "## The need for RAG\n",
        "\n",
        "While LLM like OpenAI GPT-3.5 exhibit impressive wide range of skills they have a few limitations. Being trained on the internet data, they have a knowledge cutoff (Sep 2021 in case of OpenAI), and do not know about proprietary & personal data. They also have a tendency to hallucinate, that is they may confidently make up facts and provide answers that may seem to be accurate, but are actually incorrect. Here we will demonstrate what that means."
      ],
      "metadata": {
        "id": "tDYs7C6OsMaq"
      }
    },
    {
      "cell_type": "code",
      "source": [
        "# Wrap your prompt in a function\n",
        "prompt = kernel.create_semantic_function(\"\"\"\n",
        "As a friendly AI Copilot answer the question: Did Albert Einstein have pets?\n",
        "\"\"\")\n",
        "\n",
        "print(prompt())\n"
      ],
      "metadata": {
        "colab": {
          "base_uri": "https://localhost:8080/"
        },
        "id": "ifeOyQXAsLmb",
        "outputId": "c0b06b77-9c44-4059-9ca9-155f762c5a5b"
      },
      "execution_count": 11,
      "outputs": [
        {
          "output_type": "stream",
          "name": "stdout",
          "text": [
            "Yes, Albert Einstein did have pets. He had a few cats throughout his life, and his most famous cat was named Tiger. Einstein was known to have a great fondness for animals, particularly cats, and he often spoke about his love for them.\n"
          ]
        }
      ]
    },
    {
      "cell_type": "code",
      "source": [
        "# Wrap your prompt in a function\n",
        "prompt = kernel.create_semantic_function(\"\"\"\n",
        "As a friendly AI Copilot answer the question: Did we have pets?\n",
        "\"\"\")\n",
        "\n",
        "print(prompt())"
      ],
      "metadata": {
        "colab": {
          "base_uri": "https://localhost:8080/"
        },
        "id": "TV87J3Om6np7",
        "outputId": "f4ebd42b-8e0f-4bd1-9662-2aebaa520940"
      },
      "execution_count": 12,
      "outputs": [
        {
          "output_type": "stream",
          "name": "stdout",
          "text": [
            "Yes, humans have had pets for thousands of years. Pets are animals that are kept for companionship, entertainment, or emotional support. They can be found in various forms, such as dogs, cats, birds, fish, and even more exotic animals like reptiles or rodents. Pets have become an integral part of many households, providing love, companionship, and joy to their owners.\n"
          ]
        }
      ]
    }
  ]
}