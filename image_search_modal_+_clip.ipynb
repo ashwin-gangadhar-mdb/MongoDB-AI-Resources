{
  "nbformat": 4,
  "nbformat_minor": 0,
  "metadata": {
    "colab": {
      "provenance": [],
      "authorship_tag": "ABX9TyP3cp3tADcARKRpp3GMj+51",
      "include_colab_link": true
    },
    "kernelspec": {
      "name": "python3",
      "display_name": "Python 3"
    },
    "language_info": {
      "name": "python"
    }
  },
  "cells": [
    {
      "cell_type": "markdown",
      "metadata": {
        "id": "view-in-github",
        "colab_type": "text"
      },
      "source": [
        "<a href=\"https://colab.research.google.com/github/prakul/MongoDB-AI-Resources/blob/main/image_search_modal_%2B_clip.ipynb\" target=\"_parent\"><img src=\"https://colab.research.google.com/assets/colab-badge.svg\" alt=\"Open In Colab\"/></a>"
      ]
    },
    {
      "cell_type": "code",
      "execution_count": null,
      "metadata": {
        "id": "jVL4cLXsJT2h"
      },
      "outputs": [],
      "source": [
        "!pip install pymongo python-dotenv modal sentence-transformers numpy"
      ]
    },
    {
      "cell_type": "markdown",
      "source": [
        "# Step 1: Setup the environment\n"
      ],
      "metadata": {
        "id": "7-hEYLAyfHbj"
      }
    },
    {
      "cell_type": "code",
      "source": [
        "import os\n",
        "from dotenv import load_dotenv\n",
        "load_dotenv(override=True)\n",
        "\n",
        "# Add an environment file to the notebook root directory called `.env` with params\n",
        "# like MONGO_URI=\"xxx\" in each line to load these envvars\n",
        "\n",
        "MONGO_URI = os.environ[\"MONGO_URI\"]\n",
        "\n",
        "# Get your keys from modal.com/signup\n",
        "os.environ[\"MODAL_TOKEN_ID\"] = \"XXX\"\n",
        "os.environ[\"MODAL_TOKEN_SECRET\"] = \"XXX\""
      ],
      "metadata": {
        "id": "Drvh-wibJlCZ"
      },
      "execution_count": null,
      "outputs": []
    },
    {
      "cell_type": "code",
      "source": [
        "ATLAS_VECTOR_SEARCH_INDEX_NAME = \"ImageSemanticSearch\"\n",
        "EMBEDDING_FIELD_NAME = \"image_embedding_clip\""
      ],
      "metadata": {
        "id": "sMzu9Dp7JyDV"
      },
      "execution_count": null,
      "outputs": []
    },
    {
      "cell_type": "code",
      "source": [
        "import pymongo\n",
        "\n",
        "mongodb_client = pymongo.MongoClient(MONGO_URI)\n",
        "db = mongodb_client.sample_airbnb\n",
        "collection = db.listingsAndReviews\n"
      ],
      "metadata": {
        "id": "6hlxRBM0JuTq"
      },
      "execution_count": null,
      "outputs": []
    },
    {
      "cell_type": "code",
      "source": [
        "\n",
        "# [Optional] FOR DEBUG PURPOSE\n",
        "# Test your connection and sample dataset setup by\n",
        "# fetching one of the documents in the collection\n",
        "\n",
        "#for doc in collection.find_one():\n",
        "#    print(doc)\n"
      ],
      "metadata": {
        "id": "iUcSiiy8OU2t"
      },
      "execution_count": null,
      "outputs": []
    },
    {
      "cell_type": "markdown",
      "source": [
        "# Step 2: Setup embeddings generation function"
      ],
      "metadata": {
        "id": "NQfGQXHzfBr0"
      }
    },
    {
      "cell_type": "code",
      "source": [
        "from modal.object import Object\n",
        "import requests\n",
        "from modal import Stub, Image, method\n",
        "\n",
        "stub = Stub()\n",
        "\n",
        "def download_models():\n",
        "    # Caches the model inside the Modal image, so subsequent cold starts are faster.\n",
        "    from sentence_transformers import SentenceTransformer\n",
        "    SentenceTransformer('sentence-transformers/clip-ViT-B-32')\n",
        "\n",
        "container_image = Image.debian_slim().pip_install(\"sentence-transformers\").run_function(download_models)\n",
        "\n",
        "@stub.cls(image=container_image)\n",
        "class ModalEmbedding:\n",
        "    def __enter__(self):\n",
        "      from sentence_transformers import SentenceTransformer\n",
        "      self.model = SentenceTransformer('sentence-transformers/clip-ViT-B-32')\n",
        "\n",
        "    @method()\n",
        "    def generate(self, image: Object):\n",
        "      from PIL import Image\n",
        "      if not 'picture_url' in image:\n",
        "        return None\n",
        "      try:\n",
        "        image = Image.open(requests.get(image['picture_url'], stream=True).raw).convert('RGB')\n",
        "      except Exception as exc:\n",
        "        print(image['picture_url'], exc)\n",
        "        return None\n",
        "      img_emb = self.model.encode(image).tolist()\n",
        "      return img_emb"
      ],
      "metadata": {
        "id": "8l5OrYMTKG8X"
      },
      "execution_count": null,
      "outputs": []
    },
    {
      "cell_type": "code",
      "source": [
        "def generate_embedding(query):\n",
        "    from sentence_transformers import SentenceTransformer, util\n",
        "    import numpy\n",
        "    model = SentenceTransformer('clip-ViT-B-32')\n",
        "    # First, we encode the query (which can either be an image or a text string)\n",
        "    query_emb = model.encode([query], show_progress_bar=False)\n",
        "    return numpy.ndarray.tolist(query_emb)\n",
        "\n"
      ],
      "metadata": {
        "id": "YUbwLxkvfkqc"
      },
      "execution_count": null,
      "outputs": []
    },
    {
      "cell_type": "code",
      "source": [
        "\n",
        "# [Optional] FOR DEBUG PURPOSE\n",
        "# Test the generate embedding function\n",
        "#img_url = 'https://a0.muscache.com/im/pictures/231120b6-e6e5-4514-93cd-53722ac67de1.jpg?aki_policy=large'\n",
        "#query_image = Image.open(requests.get(img_url, stream=True).raw).convert('RGB')\n",
        "\n",
        "#with stub.run():\n",
        "#    print(len(ModalEmbedding().generate.remote(images[0])))\n"
      ],
      "metadata": {
        "id": "SCbag68EM-kE"
      },
      "execution_count": null,
      "outputs": []
    },
    {
      "cell_type": "markdown",
      "source": [
        "# Step 3: Create and store embeddings\n"
      ],
      "metadata": {
        "id": "mz5nodPSQios"
      }
    },
    {
      "cell_type": "code",
      "source": [
        "# Fetch the documents from MongoDB\n",
        "docs = list(collection.find({'images.picture_url':{\"$ne\":None}}))\n",
        "\n"
      ],
      "metadata": {
        "id": "xBrLwngDM_ua"
      },
      "execution_count": null,
      "outputs": []
    },
    {
      "cell_type": "code",
      "source": [
        "docs1 = list(collection.find({'images':{\"$exists\": True}}))\n"
      ],
      "metadata": {
        "id": "8xX8I0o0Ren3"
      },
      "execution_count": null,
      "outputs": []
    },
    {
      "cell_type": "code",
      "source": [
        "# Generate vector embeddings for the plot field in the dataset\n",
        "with stub.run():\n",
        "\timages = [doc['images'] for doc in docs]\n",
        "\tembeddings = list(ModalEmbedding().generate.map(images))"
      ],
      "metadata": {
        "id": "R2nBie5ZSz46"
      },
      "execution_count": null,
      "outputs": []
    },
    {
      "cell_type": "code",
      "source": [
        "print(embeddings[0])"
      ],
      "metadata": {
        "colab": {
          "base_uri": "https://localhost:8080/"
        },
        "id": "ZpOSAmx3W6sc",
        "outputId": "e4fe4de2-8d11-43d2-a904-99db5fa741f3"
      },
      "execution_count": null,
      "outputs": [
        {
          "output_type": "stream",
          "name": "stdout",
          "text": [
            "[-0.10067489743232727, 0.40229833126068115, -0.18212583661079407, 0.12891000509262085, 0.06888793408870697, -0.33011144399642944, -0.10319440066814423, 0.5468993782997131, 0.49641793966293335, 0.02749542146921158, 0.16331984102725983, -0.17224961519241333, 0.12043209373950958, -0.2894374132156372, 0.1871185302734375, -0.22775891423225403, -0.3175334632396698, 0.050206076353788376, 0.006322325207293034, 0.18621939420700073, 1.3562796115875244, 0.304808646440506, 0.5602957010269165, 0.6027089357376099, -0.03651220351457596, 0.12766164541244507, 0.44914957880973816, -0.2329598069190979, 0.07523620128631592, 0.1189463809132576, 0.3786359131336212, 0.357398122549057, -0.40323036909103394, 0.07234754413366318, -0.6680052876472473, 0.036301590502262115, -0.12135691940784454, -0.2471243143081665, 0.012553952634334564, 0.8008872270584106, -0.5521090030670166, 0.43521106243133545, 0.1320408284664154, -0.17120769619941711, -0.14077939093112946, -2.624800682067871, -0.2832529544830322, 0.5161932706832886, -0.02840358018875122, -0.5634899139404297, 0.24024531245231628, -0.06516771763563156, 0.5460171103477478, 0.1460508406162262, 0.06260113418102264, -0.2238965779542923, -0.04511276260018349, 0.2834521532058716, -0.04084690660238266, 0.18537728488445282, -0.36622828245162964, 0.05498513951897621, -0.05209903419017792, -0.1304273158311844, -0.22583302855491638, -0.3230412006378174, 0.8387695550918579, 0.2419293224811554, -0.24810725450515747, 0.16826362907886505, 0.010415926575660706, -0.010839289054274559, 0.015161046758294106, -0.2874033451080322, -0.09902931749820709, -0.25555291771888733, -0.291523277759552, -0.2251831591129303, -0.1877143681049347, -0.11084078252315521, -0.05806291103363037, -0.3125251233577728, -0.16426776349544525, 1.0054454803466797, 0.31259945034980774, 0.4430586099624634, 0.44688889384269714, -0.427008718252182, -0.7173723578453064, -0.3021911382675171, 0.06179941073060036, 0.0175093412399292, -6.729379177093506, 0.22227129340171814, -0.61136394739151, 0.3114246129989624, 0.40386486053466797, -0.14523127675056458, -0.2677150368690491, 0.6877226829528809, 0.007347367703914642, 0.16193345189094543, 0.18737328052520752, -0.12670321762561798, 0.057645611464977264, -0.24491649866104126, -0.23297026753425598, 0.1332618147134781, 0.28815022110939026, -0.07092997431755066, -0.5671029090881348, 0.5807812809944153, -0.20127668976783752, 0.31701114773750305, -0.12367847561836243, -0.22286704182624817, 0.4152204692363739, 0.2271425724029541, 0.237308070063591, 0.09099964797496796, 0.24235157668590546, -1.2951745986938477, 0.044627584517002106, -0.2547074556350708, 0.35961484909057617, -0.3408554792404175, -0.1678878664970398, -0.10985147207975388, -0.47740933299064636, 0.10438349843025208, 0.13238129019737244, -0.21842168271541595, -0.36644208431243896, 0.7620246410369873, -0.46665307879447937, -0.06467713415622711, -0.02055668830871582, -0.45356932282447815, -0.13630178570747375, -0.055045273154973984, 0.04544985294342041, 0.14018918573856354, 0.5534770488739014, -0.20320634543895721, -0.19867348670959473, 0.05898665264248848, -0.021980272606015205, 0.3130266070365906, -0.15850816667079926, 0.08600545674562454, 0.060954976826906204, 0.09673861414194107, -0.7411917448043823, -0.004848662763834, 0.04735627770423889, -0.4310770332813263, -0.1563199758529663, -0.641991376876831, 0.04138462617993355, -0.038793228566646576, -0.06994982808828354, -0.15192650258541107, 0.2686644494533539, 0.11970052123069763, 0.5332913994789124, 0.25234362483024597, 0.7943936586380005, -0.3896543085575104, 0.4002910554409027, -0.258099764585495, -0.044034913182258606, 0.13261866569519043, -0.3517628014087677, 0.12787842750549316, -0.2867577075958252, 0.6342809200286865, 2.2152440547943115, -0.19451403617858887, 0.160011425614357, 0.2585219144821167, 0.18263164162635803, -0.3187250792980194, -0.5422559380531311, 0.1812138855457306, -0.39502817392349243, -0.08747647702693939, 0.16394764184951782, -0.20444194972515106, -0.30748486518859863, 0.058997031301259995, 0.033167336136102676, -0.2744990587234497, 0.25541558861732483, -0.21224293112754822, 0.34038376808166504, 0.1871660202741623, 0.042805999517440796, -0.034272320568561554, -1.0867722034454346, 0.30467090010643005, -0.0031398553401231766, 0.091742604970932, -0.15733197331428528, 0.029676537960767746, 0.5766943693161011, 0.06762025505304337, -0.0744631290435791, -0.13693790137767792, 0.36701831221580505, 0.2808701992034912, -0.5187253355979919, 1.0368071794509888, -0.06750550866127014, 0.0507744736969471, -0.19752684235572815, -0.10880531370639801, 0.28060147166252136, 0.26152998208999634, 1.5823612213134766, 0.467140793800354, 0.4632181227207184, 0.03140305355191231, -0.17265675961971283, 0.020560434088110924, -0.225633904337883, 0.26239725947380066, -0.1633632481098175, 0.4592038094997406, -0.3477937579154968, 0.009731244295835495, -0.03685959428548813, 0.18969136476516724, 0.13186383247375488, -0.10737134516239166, 0.19735530018806458, 0.6292559504508972, 0.17175047099590302, 0.1583273708820343, -0.008731935173273087, -0.11702898144721985, -0.25850382447242737, -0.28613871335983276, -0.09746813774108887, -0.24946781992912292, 0.19666121900081635, 1.1262308359146118, -0.23431545495986938, -0.35789918899536133, -0.03082590363919735, 0.145233154296875, -0.18336109817028046, 0.26919206976890564, 0.2736854553222656, -0.0037633180618286133, 0.07336144894361496, 0.502061665058136, -0.22642852365970612, 0.36374032497406006, 0.4802810847759247, -0.09605394303798676, -0.13424012064933777, -0.029666967689990997, 0.04451826214790344, 0.3293369710445404, 0.04851779714226723, -0.23036867380142212, 0.2238880693912506, -0.10735272616147995, -0.2003093957901001, 0.7178587317466736, -0.02519259974360466, -0.2655128836631775, 0.21174338459968567, -0.22655287384986877, 0.0270026084035635, -0.1828877329826355, 0.19829493761062622, -0.35907816886901855, -0.3845139741897583, 0.24477797746658325, 0.42083871364593506, 0.43617016077041626, 0.35206493735313416, 0.8273730278015137, 0.28969892859458923, -0.10593146085739136, 0.2304873764514923, 0.11538663506507874, -0.17701727151870728, -0.02221079170703888, 0.2872367799282074, 0.060455307364463806, 0.27967292070388794, -0.1305871158838272, -0.08500783890485764, -0.011087559163570404, 0.38766589760780334, -0.23284268379211426, -0.3870112895965576, -0.04852110147476196, -0.4200119078159332, -0.07064171135425568, 0.06635350733995438, 0.0004067458212375641, 0.2159986048936844, -0.2043427973985672, -0.133665069937706, -0.3028799891471863, 0.26868441700935364, 0.4696868360042572, -0.05063942074775696, 0.6552157998085022, 0.7590488791465759, -0.00899966899305582, -0.046180360019207, -0.09772342443466187, 0.5393340587615967, 0.19295653700828552, -0.1801321655511856, 0.346146821975708, 0.17196756601333618, 0.9819040298461914, -0.31376978754997253, 0.3484385907649994, -0.07453826814889908, 0.3901377022266388, 0.2870478332042694, -0.3953561782836914, -0.11708104610443115, -0.3003542125225067, -0.05702834203839302, -0.34611254930496216, 0.3889496624469757, -0.34615081548690796, 0.0734621062874794, -0.14280229806900024, 0.21350005269050598, -0.26097336411476135, 0.22982409596443176, -0.36213234066963196, -0.07847242057323456, -0.41669225692749023, -0.18630574643611908, 0.22116051614284515, -0.12672285735607147, 0.0402376726269722, -0.12373548746109009, 0.20494861900806427, 0.2847277522087097, -0.19782213866710663, 0.5382928252220154, -0.19492709636688232, 0.2355705052614212, 0.04394812136888504, -0.049750104546546936, -0.13969917595386505, 0.10271245241165161, 0.2663923501968384, 0.10593383759260178, 0.016585655510425568, -1.2752513885498047, -0.11458118259906769, 0.15548579394817352, 0.5232571959495544, 0.06774228811264038, 0.5202010869979858, -0.16196975111961365, -0.32512205839157104, -0.18730229139328003, -0.1834150105714798, -0.016084622591733932, 0.12591777741909027, 0.01401703990995884, 0.19888684153556824, 0.07955639064311981, 0.3229619264602661, 0.7253155708312988, 0.15210558474063873, -0.20986495912075043, 0.12048821151256561, 0.08118416368961334, -1.028176188468933, -0.22512923181056976, -0.08492457866668701, 0.3795362710952759, -0.21912352740764618, -0.16218948364257812, -0.20893214643001556, -0.09014920890331268, -0.42692816257476807, -0.4519047439098358, 0.5130104422569275, -0.4135250449180603, 0.11552918702363968, -0.06145855411887169, -0.04731374233961105, 0.16420762240886688, -0.3811691701412201, -0.008132277056574821, -0.47073644399642944, 0.12138020247220993, 0.021267738193273544, 1.0715000629425049, -0.13937078416347504, 0.34921154379844666, -0.08977529406547546, 0.08704403042793274, -0.2562705874443054, -0.33685222268104553, -0.23199015855789185, -0.12771758437156677, 0.5807758569717407, 0.23994717001914978, 0.24893814325332642, -0.12120659649372101, 0.1360328495502472, -0.9246686100959778, -0.23327520489692688, -0.6121647357940674, -0.23842358589172363, -0.023065341636538506, -0.21166175603866577, 0.051310889422893524, -0.4769209623336792, -0.21871912479400635, 0.42137402296066284, -0.21595211327075958, 0.645336389541626, -0.6201854348182678, -0.16742011904716492, -0.5930659174919128, -0.8464699983596802, -0.32363539934158325, 0.10111556947231293, 0.19835850596427917, -0.22845160961151123, 0.018927007913589478, 0.393058180809021, -0.03429841622710228, 0.16352835297584534, -0.26481708884239197, 0.3395075798034668, 0.06867826730012894, 0.004837490618228912, -0.021698810160160065, -0.04338876157999039, -0.24160540103912354, -0.3107130527496338, 0.2632840871810913, -0.14927688241004944, 0.5669764280319214, -0.21505890786647797, -0.35077497363090515, 0.9509806036949158, -0.27219685912132263, 0.13662248849868774, 0.12201566994190216, 0.26601454615592957, 0.46774011850357056, 0.5169705748558044, -0.44331681728363037, -0.13260327279567719, 0.12770836055278778, -0.12227204442024231, 0.294595867395401, -0.1791442483663559, 0.012839321047067642, -0.29074808955192566, -0.18799057602882385, 0.4537476897239685, 0.3118368983268738, -0.016392141580581665, 0.2611340880393982, -0.7947292923927307, 0.023636087775230408, -0.12462044507265091, 0.08701165020465851, 0.13859698176383972, 0.2532584071159363, -0.03895081579685211, 0.06461474299430847, -0.32493987679481506, 0.04346140846610069, 0.1483694612979889, -0.0766097828745842, 0.5629265904426575, -0.1380878984928131, 0.17006023228168488, -0.09708558022975922, -0.09463012218475342, -0.4028930366039276, 0.12234635651111603, 0.2883121073246002, -0.21883994340896606, 0.3002380430698395, -0.28695058822631836, 0.42769765853881836, 0.09163780510425568, -0.5443490147590637, 0.28898799419403076, -0.20588773488998413, 0.003655947744846344, 0.07825668901205063, -0.19895333051681519, -0.2474711686372757, 0.21022702753543854, 0.07451680302619934, -0.12197080254554749, -0.3133384883403778, -0.40036505460739136, 0.021156208589673042, 0.06214740127325058]\n"
          ]
        }
      ]
    },
    {
      "cell_type": "code",
      "source": [
        "from pymongo import ReplaceOne\n",
        "\n",
        "# Update the collection with the embeddings\n",
        "requests = []\n",
        "for doc, embedding in zip(docs, embeddings):\n",
        "\tdoc[EMBEDDING_FIELD_NAME] = embedding\n",
        "\trequests.append(ReplaceOne({'_id': doc['_id']}, doc))\n",
        "collection.bulk_write(requests)"
      ],
      "metadata": {
        "colab": {
          "base_uri": "https://localhost:8080/"
        },
        "id": "-dnrQPCeS3DP",
        "outputId": "0b1c72a1-2998-40ae-a59c-1a9d6fd8b69f"
      },
      "execution_count": null,
      "outputs": [
        {
          "output_type": "execute_result",
          "data": {
            "text/plain": [
              "<pymongo.results.BulkWriteResult at 0x7a0308b98c10>"
            ]
          },
          "metadata": {},
          "execution_count": 45
        }
      ]
    },
    {
      "cell_type": "markdown",
      "source": [
        "# Step 4: Create a vector search index\n"
      ],
      "metadata": {
        "id": "0Q6sOdG0bwfK"
      }
    },
    {
      "cell_type": "code",
      "source": [
        "collection.create_search_index(\n",
        "    {\"definition\":\n",
        "        {\"mappings\": {\"dynamic\": True, \"fields\": {\n",
        "            EMBEDDING_FIELD_NAME : {\n",
        "                \"dimensions\": 512,\n",
        "                \"similarity\": \"dotProduct\",\n",
        "                \"type\": \"knnVector\"\n",
        "                }}}},\n",
        "     \"name\": ATLAS_VECTOR_SEARCH_INDEX_NAME\n",
        "    }\n",
        ")"
      ],
      "metadata": {
        "colab": {
          "base_uri": "https://localhost:8080/",
          "height": 35
        },
        "id": "JE3AZm9hbxRJ",
        "outputId": "3fcd74fa-4ab6-496d-da0d-d75acb75a673"
      },
      "execution_count": null,
      "outputs": [
        {
          "output_type": "execute_result",
          "data": {
            "text/plain": [
              "'ImageSemanticSearch'"
            ],
            "application/vnd.google.colaboratory.intrinsic+json": {
              "type": "string"
            }
          },
          "metadata": {},
          "execution_count": 46
        }
      ]
    },
    {
      "cell_type": "markdown",
      "source": [
        "# Step 5: Query your data\n"
      ],
      "metadata": {
        "id": "7adKy3F7cUPM"
      }
    },
    {
      "cell_type": "code",
      "source": [
        "query = \"Houses with swimming pools\"\n",
        "results = collection.aggregate([\n",
        "    {\n",
        "        '$search': {\n",
        "            \"index\": ATLAS_VECTOR_SEARCH_INDEX_NAME,\n",
        "            \"knnBeta\": {\n",
        "                \"vector\": generate_embedding(query)[0],\n",
        "                \"k\": 4,\n",
        "                \"path\": EMBEDDING_FIELD_NAME}\n",
        "        }\n",
        "    }\n",
        "])\n",
        "\n",
        "results = list(results)\n",
        "for document in results:\n",
        "    print(f'{document[\"images\"]},\\n\\n')"
      ],
      "metadata": {
        "colab": {
          "base_uri": "https://localhost:8080/"
        },
        "id": "HshoRh7dcXD3",
        "outputId": "b132fc71-89ab-49a0-fd63-431e35968734"
      },
      "execution_count": null,
      "outputs": [
        {
          "output_type": "stream",
          "name": "stdout",
          "text": [
            "{'thumbnail_url': '', 'medium_url': '', 'picture_url': 'https://a0.muscache.com/im/pictures/bab17a39-035d-4ad8-ba38-e6bd9be4245f.jpg?aki_policy=large', 'xl_picture_url': ''},\n",
            "\n",
            "\n",
            "{'thumbnail_url': '', 'medium_url': '', 'picture_url': 'https://a0.muscache.com/im/pictures/88710695-d25c-4144-a839-b93cfb2f4715.jpg?aki_policy=large', 'xl_picture_url': ''},\n",
            "\n",
            "\n",
            "{'thumbnail_url': '', 'medium_url': '', 'picture_url': 'https://a0.muscache.com/im/pictures/25621df9-d04c-4c38-9055-f8cfb9771e13.jpg?aki_policy=large', 'xl_picture_url': ''},\n",
            "\n",
            "\n",
            "{'thumbnail_url': '', 'medium_url': '', 'picture_url': 'https://a0.muscache.com/im/pictures/34569517/631c7e71_original.jpg?aki_policy=large', 'xl_picture_url': ''},\n",
            "\n",
            "\n"
          ]
        }
      ]
    },
    {
      "cell_type": "code",
      "source": [
        "from IPython.display import Image, display\n",
        "\n",
        "for document in results:\n",
        "    image_url = document['images']['picture_url']\n",
        "    print(document['name'][:20])\n",
        "    print(document['listing_url'])\n",
        "    display(Image(url=image_url, width=400, height=400))\n"
      ],
      "metadata": {
        "colab": {
          "base_uri": "https://localhost:8080/",
          "height": 1000
        },
        "id": "wqgzBnTB3tAp",
        "outputId": "37978eac-ab42-4b7b-fac4-f7c069e02493"
      },
      "execution_count": null,
      "outputs": [
        {
          "output_type": "stream",
          "name": "stdout",
          "text": [
            "Greenwich Fun and Lu\n",
            "https://www.airbnb.com/rooms/10459480\n"
          ]
        },
        {
          "output_type": "display_data",
          "data": {
            "text/html": [
              "<img src=\"https://a0.muscache.com/im/pictures/bab17a39-035d-4ad8-ba38-e6bd9be4245f.jpg?aki_policy=large\" width=\"400\" height=\"400\"/>"
            ],
            "text/plain": [
              "<IPython.core.display.Image object>"
            ]
          },
          "metadata": {}
        },
        {
          "output_type": "stream",
          "name": "stdout",
          "text": [
            "LUXURY HOUSE IN BARR\n",
            "https://www.airbnb.com/rooms/2271702\n"
          ]
        },
        {
          "output_type": "display_data",
          "data": {
            "text/html": [
              "<img src=\"https://a0.muscache.com/im/pictures/88710695-d25c-4144-a839-b93cfb2f4715.jpg?aki_policy=large\" width=\"400\" height=\"400\"/>"
            ],
            "text/plain": [
              "<IPython.core.display.Image object>"
            ]
          },
          "metadata": {}
        },
        {
          "output_type": "stream",
          "name": "stdout",
          "text": [
            "Tranquil beach home \n",
            "https://www.airbnb.com/rooms/22198157\n"
          ]
        },
        {
          "output_type": "display_data",
          "data": {
            "text/html": [
              "<img src=\"https://a0.muscache.com/im/pictures/25621df9-d04c-4c38-9055-f8cfb9771e13.jpg?aki_policy=large\" width=\"400\" height=\"400\"/>"
            ],
            "text/plain": [
              "<IPython.core.display.Image object>"
            ]
          },
          "metadata": {}
        },
        {
          "output_type": "stream",
          "name": "stdout",
          "text": [
            "Private House Mindel\n",
            "https://www.airbnb.com/rooms/2634829\n"
          ]
        },
        {
          "output_type": "display_data",
          "data": {
            "text/html": [
              "<img src=\"https://a0.muscache.com/im/pictures/34569517/631c7e71_original.jpg?aki_policy=large\" width=\"400\" height=\"400\"/>"
            ],
            "text/plain": [
              "<IPython.core.display.Image object>"
            ]
          },
          "metadata": {}
        }
      ]
    }
  ]
}